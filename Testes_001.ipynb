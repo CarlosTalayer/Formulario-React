{
  "nbformat": 4,
  "nbformat_minor": 0,
  "metadata": {
    "colab": {
      "provenance": [],
      "authorship_tag": "ABX9TyOsNMuthoYgY/WD3h3XoOr0",
      "include_colab_link": true
    },
    "kernelspec": {
      "name": "python3",
      "display_name": "Python 3"
    },
    "language_info": {
      "name": "python"
    }
  },
  "cells": [
    {
      "cell_type": "markdown",
      "metadata": {
        "id": "view-in-github",
        "colab_type": "text"
      },
      "source": [
        "<a href=\"https://colab.research.google.com/github/CarlosTalayer/Formulario-React/blob/main/Testes_001.ipynb\" target=\"_parent\"><img src=\"https://colab.research.google.com/assets/colab-badge.svg\" alt=\"Open In Colab\"/></a>"
      ]
    },
    {
      "cell_type": "code",
      "execution_count": 19,
      "metadata": {
        "colab": {
          "base_uri": "https://localhost:8080/"
        },
        "id": "JYiECIGMQ8k0",
        "outputId": "0b190bb5-a0a8-45dd-8a1f-8d0ccf0e5fdb"
      },
      "outputs": [
        {
          "output_type": "stream",
          "name": "stdout",
          "text": [
            "O aluno está aprovado.\n"
          ]
        }
      ],
      "source": [
        "#nota1 = float(input('Digite a primeira nota do aluno: '))\n",
        "#nota2 = float(input('Agora insira a segunda nota: '))\n",
        "#media = (nota1 + nota2) / 2\n",
        "#print('A média das duas notas digitadas é {}.' .format(media))\n",
        "#if (media > 70):\n",
        "#  print(\"O aluno foi aprovado.\")\n",
        "#else:\n",
        "#  print(\"Devido a média ter sido abaixo de 70, o aluno foi reprovado.\")\n",
        "\n",
        "nota = 7\n",
        "if (nota < 4):\n",
        "  print(\"O aluno está reprovado.\")\n",
        "elif (nota < 7):\n",
        "  print(\"O aluno está em recuperação.\")\n",
        "elif (nota >= 7):\n",
        "  print(\"O aluno está aprovado.\")"
      ]
    }
  ]
}